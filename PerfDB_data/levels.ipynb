{
 "cells": [
  {
   "cell_type": "code",
   "execution_count": 1,
   "id": "3a513c0e",
   "metadata": {},
   "outputs": [],
   "source": [
    "import pandas as pd\n",
    "import numpy as np"
   ]
  },
  {
   "cell_type": "code",
   "execution_count": 2,
   "id": "fb3eab82",
   "metadata": {},
   "outputs": [],
   "source": [
    "df = pd.read_csv('mqoau.csv', dtype={'Mode bits': str})"
   ]
  },
  {
   "cell_type": "code",
   "execution_count": 3,
   "id": "4c1166de",
   "metadata": {},
   "outputs": [
    {
     "name": "stdout",
     "output_type": "stream",
     "text": [
      "['Original_Query', 'Query Type', 'Annotated Answer', 'Query_Type', 'LLM Execution sequence', 'Mode bits', 'Execution mode', 'assignment', 'struct_id', 'plan', 'Final_Output', 'step_logs', 'total_cost', 'total_energy', 'total_latency', 'blending_cost', 'blending_energy', 'blending_latency', 'Total_Cost', 'Total_Energy', 'Total_Latency', 'Quality_of_Answer', 'domain']\n"
     ]
    }
   ],
   "source": [
    "print(df.columns.tolist())"
   ]
  },
  {
   "cell_type": "code",
   "execution_count": 4,
   "id": "86ec520b",
   "metadata": {},
   "outputs": [
    {
     "name": "stdout",
     "output_type": "stream",
     "text": [
      "[  0   1   5  41 801  50 802 836   6  52 840]\n"
     ]
    }
   ],
   "source": [
    "print(df['struct_id'].unique())"
   ]
  },
  {
   "cell_type": "code",
   "execution_count": 5,
   "id": "32e3a5b4",
   "metadata": {},
   "outputs": [
    {
     "name": "stdout",
     "output_type": "stream",
     "text": [
      "['(0,)' '(1,)' '(2,)' ... '(3, 3, 5)' '(3, 4, 5)' '(4, 4, 5)']\n"
     ]
    }
   ],
   "source": [
    "print(df['assignment'].unique())"
   ]
  },
  {
   "cell_type": "code",
   "execution_count": 6,
   "id": "1c857866",
   "metadata": {},
   "outputs": [
    {
     "name": "stdout",
     "output_type": "stream",
     "text": [
      "['(0,)' '(1,)' '(2,)' ... '(3, 3, 5)' '(3, 4, 5)' '(4, 4, 5)']\n",
      "Total unique assignments: 1545\n"
     ]
    }
   ],
   "source": [
    "unique_assignments = df['assignment'].unique()\n",
    "print(unique_assignments)\n",
    "print(\"Total unique assignments:\", len(unique_assignments))"
   ]
  },
  {
   "cell_type": "code",
   "execution_count": 7,
   "id": "9c7beb2b",
   "metadata": {},
   "outputs": [
    {
     "name": "stdout",
     "output_type": "stream",
     "text": [
      "  assignment  struct_id Query_Type  Total_Cost  Total_Energy  Total_Latency  \\\n",
      "0     (0, 0)          1        Art    0.000009     32.169121      49.514738   \n",
      "1     (0, 0)          1  Geography    0.000009     30.835237      47.461623   \n",
      "2     (0, 0)          1    History    0.000009     30.942640      47.626939   \n",
      "3     (0, 0)          1      Music    0.000008     29.705766      45.723141   \n",
      "4     (0, 0)          1      Other    0.000009     30.984216      47.690932   \n",
      "\n",
      "   Quality_of_Answer  \n",
      "0           0.420143  \n",
      "1           0.490950  \n",
      "2           0.504091  \n",
      "3           0.419776  \n",
      "4           0.417368  \n"
     ]
    }
   ],
   "source": [
    "agg_df = df.groupby(['assignment', 'struct_id', 'Query_Type'])[['Total_Cost', 'Total_Energy', 'Total_Latency', 'Quality_of_Answer']].mean().reset_index()\n",
    "print(agg_df.head())"
   ]
  },
  {
   "cell_type": "code",
   "execution_count": 45,
   "id": "b39ea9e0",
   "metadata": {},
   "outputs": [],
   "source": [
    "# level,structure_id,llm_assignments,query_type,cost,energy,latency,qoa,input_cost,input_latency,input_energy,output_cost,output_latency,output_energy,average_output_tokens\n"
   ]
  },
  {
   "cell_type": "code",
   "execution_count": 8,
   "id": "c2ee60ca",
   "metadata": {},
   "outputs": [
    {
     "name": "stdout",
     "output_type": "stream",
     "text": [
      "             assignment  struct_id   Query_Type\n",
      "0                  (0,)          0          Art\n",
      "1                  (1,)          0          Art\n",
      "2                  (2,)          0          Art\n",
      "3                  (3,)          0          Art\n",
      "4                  (4,)          0          Art\n",
      "...                 ...        ...          ...\n",
      "463445  (3, 3, 3, 3, 5)        840  Video games\n",
      "463446  (3, 3, 3, 4, 5)        840  Video games\n",
      "463447  (3, 3, 4, 4, 5)        840  Video games\n",
      "463448  (3, 4, 4, 4, 5)        840  Video games\n",
      "463449  (4, 4, 4, 4, 5)        840  Video games\n",
      "\n",
      "[56400 rows x 3 columns]\n",
      "Total unique combinations: 56400\n"
     ]
    }
   ],
   "source": [
    "unique_combinations = df[['assignment', 'struct_id', 'Query_Type']].drop_duplicates()\n",
    "print(unique_combinations)\n",
    "print(\"Total unique combinations:\", len(unique_combinations))"
   ]
  },
  {
   "cell_type": "code",
   "execution_count": 9,
   "id": "7b65716b",
   "metadata": {},
   "outputs": [
    {
     "name": "stdout",
     "output_type": "stream",
     "text": [
      "  assignment  struct_id Query_Type  Total_Cost  Total_Energy  Total_Latency  \\\n",
      "0     (0, 0)          1        Art    0.000009     32.169121      49.514738   \n",
      "1     (0, 0)          1  Geography    0.000009     30.835237      47.461623   \n",
      "2     (0, 0)          1    History    0.000009     30.942640      47.626939   \n",
      "3     (0, 0)          1      Music    0.000008     29.705766      45.723141   \n",
      "4     (0, 0)          1      Other    0.000009     30.984216      47.690932   \n",
      "\n",
      "   Quality_of_Answer  \n",
      "0           0.420143  \n",
      "1           0.490950  \n",
      "2           0.504091  \n",
      "3           0.419776  \n",
      "4           0.417368  \n"
     ]
    }
   ],
   "source": [
    "exclude_types = ['economics_mmlu', 'engineering_mmlu', 'law_mmlu', 'math_mmlu']\n",
    "filtered_agg_df = agg_df[~agg_df['Query_Type'].isin(exclude_types)]\n",
    "print(filtered_agg_df.head())"
   ]
  },
  {
   "cell_type": "code",
   "execution_count": 10,
   "id": "5193683b",
   "metadata": {},
   "outputs": [
    {
     "name": "stdout",
     "output_type": "stream",
     "text": [
      "      assignment  struct_id       Query_Type\n",
      "0         (0, 0)          1              Art\n",
      "1         (0, 0)          1        Geography\n",
      "2         (0, 0)          1          History\n",
      "3         (0, 0)          1            Music\n",
      "4         (0, 0)          1            Other\n",
      "...          ...        ...              ...\n",
      "56393       (4,)          0     history_mmlu\n",
      "56396       (4,)          0       other_mmlu\n",
      "56397       (4,)          0  philosophy_mmlu\n",
      "56398       (4,)          0     physics_mmlu\n",
      "56399       (4,)          0  psychology_mmlu\n",
      "\n",
      "[47000 rows x 3 columns]\n",
      "Total unique combinations: 47000\n"
     ]
    }
   ],
   "source": [
    "unique_combinations = filtered_agg_df[['assignment', 'struct_id', 'Query_Type']].drop_duplicates()\n",
    "print(unique_combinations)\n",
    "print(\"Total unique combinations:\", len(unique_combinations))"
   ]
  },
  {
   "cell_type": "code",
   "execution_count": 11,
   "id": "50441cf8",
   "metadata": {},
   "outputs": [
    {
     "name": "stdout",
     "output_type": "stream",
     "text": [
      "['Art' 'Geography' 'History' 'Music' 'Other' 'Politics'\n",
      " 'Science and technology' 'Sports' 'TV shows' 'Video games' 'biology_mmlu'\n",
      " 'business_mmlu' 'chemistry_mmlu' 'computer science_mmlu' 'health_mmlu'\n",
      " 'history_mmlu' 'other_mmlu' 'philosophy_mmlu' 'physics_mmlu'\n",
      " 'psychology_mmlu']\n",
      "Total unique query types: 20\n"
     ]
    }
   ],
   "source": [
    "unique_query_types = filtered_agg_df['Query_Type'].unique()\n",
    "print(unique_query_types)\n",
    "print(\"Total unique query types:\", len(unique_query_types))"
   ]
  },
  {
   "cell_type": "code",
   "execution_count": 12,
   "id": "3f39786b",
   "metadata": {},
   "outputs": [
    {
     "name": "stdout",
     "output_type": "stream",
     "text": [
      "['assignment', 'struct_id', 'Query_Type', 'Total_Cost', 'Total_Energy', 'Total_Latency', 'Quality_of_Answer']\n"
     ]
    }
   ],
   "source": [
    "print(filtered_agg_df.columns.tolist())"
   ]
  },
  {
   "cell_type": "code",
   "execution_count": 13,
   "id": "df62813c",
   "metadata": {},
   "outputs": [
    {
     "name": "stdout",
     "output_type": "stream",
     "text": [
      "  level  structure_id llm_assignments query_type      cost     energy  \\\n",
      "0  None             1          (0, 0)        Art  0.000009  32.169121   \n",
      "1  None             1          (0, 0)  Geography  0.000009  30.835237   \n",
      "2  None             1          (0, 0)    History  0.000009  30.942640   \n",
      "3  None             1          (0, 0)      Music  0.000008  29.705766   \n",
      "4  None             1          (0, 0)      Other  0.000009  30.984216   \n",
      "\n",
      "     latency       qoa  \n",
      "0  49.514738  0.420143  \n",
      "1  47.461623  0.490950  \n",
      "2  47.626939  0.504091  \n",
      "3  45.723141  0.419776  \n",
      "4  47.690932  0.417368  \n"
     ]
    }
   ],
   "source": [
    "# Rename and rearrange columns\n",
    "filtered_agg_df_renamed = filtered_agg_df.rename(columns={\n",
    "    'assignment': 'llm_assignments',\n",
    "    'struct_id': 'structure_id',\n",
    "    'Query_Type': 'query_type',\n",
    "    'Total_Cost': 'cost',\n",
    "    'Total_Energy': 'energy',\n",
    "    'Total_Latency': 'latency',\n",
    "    'Quality_of_Answer': 'qoa'\n",
    "})\n",
    "\n",
    "# Add 'level' column if needed (set to None or appropriate value)\n",
    "filtered_agg_df_renamed['level'] = None\n",
    "\n",
    "# Rearrange columns\n",
    "filtered_agg_df_final = filtered_agg_df_renamed[['level', 'structure_id', 'llm_assignments', 'query_type', 'cost', 'energy', 'latency', 'qoa']]\n",
    "print(filtered_agg_df_final.head())"
   ]
  },
  {
   "cell_type": "code",
   "execution_count": 14,
   "id": "a43fe7a6",
   "metadata": {},
   "outputs": [
    {
     "name": "stdout",
     "output_type": "stream",
     "text": [
      "   level  structure_id llm_assignments query_type      cost     energy  \\\n",
      "0      2             1          (0, 0)        Art  0.000009  32.169121   \n",
      "1      2             1          (0, 0)  Geography  0.000009  30.835237   \n",
      "2      2             1          (0, 0)    History  0.000009  30.942640   \n",
      "3      2             1          (0, 0)      Music  0.000008  29.705766   \n",
      "4      2             1          (0, 0)      Other  0.000009  30.984216   \n",
      "\n",
      "     latency       qoa  \n",
      "0  49.514738  0.420143  \n",
      "1  47.461623  0.490950  \n",
      "2  47.626939  0.504091  \n",
      "3  45.723141  0.419776  \n",
      "4  47.690932  0.417368  \n"
     ]
    }
   ],
   "source": [
    "# Map structure_id to level\n",
    "structure_levels = {\n",
    "    1: [0, 6, 52, 840],\n",
    "    2: [1, 50, 802, 836],\n",
    "    3: [5, 801],\n",
    "    4: [41]\n",
    "}\n",
    "\n",
    "def get_level(structure_id):\n",
    "    for level, ids in structure_levels.items():\n",
    "        if structure_id in ids:\n",
    "            return level\n",
    "    return None\n",
    "\n",
    "filtered_agg_df_final['level'] = filtered_agg_df_final['structure_id'].apply(get_level)\n",
    "print(filtered_agg_df_final.head())"
   ]
  },
  {
   "cell_type": "code",
   "execution_count": 15,
   "id": "35f107ab",
   "metadata": {},
   "outputs": [
    {
     "name": "stdout",
     "output_type": "stream",
     "text": [
      "   level  structure_id llm_assignments query_type      cost     energy  \\\n",
      "0      2             1          (0, 0)        Art  0.000009  32.169121   \n",
      "1      2             1          (0, 0)  Geography  0.000009  30.835237   \n",
      "2      2             1          (0, 0)    History  0.000009  30.942640   \n",
      "3      2             1          (0, 0)      Music  0.000008  29.705766   \n",
      "4      2             1          (0, 0)      Other  0.000009  30.984216   \n",
      "\n",
      "     latency       qoa  input_cost  input_latency  input_energy  output_cost  \\\n",
      "0  49.514738  0.420143           0              0             0            0   \n",
      "1  47.461623  0.490950           0              0             0            0   \n",
      "2  47.626939  0.504091           0              0             0            0   \n",
      "3  45.723141  0.419776           0              0             0            0   \n",
      "4  47.690932  0.417368           0              0             0            0   \n",
      "\n",
      "   output_latency  output_energy  average_output_tokens  \n",
      "0               0              0                      0  \n",
      "1               0              0                      0  \n",
      "2               0              0                      0  \n",
      "3               0              0                      0  \n",
      "4               0              0                      0  \n"
     ]
    }
   ],
   "source": [
    "# Add new columns with zero values\n",
    "for col in ['input_cost', 'input_latency', 'input_energy', 'output_cost', 'output_latency', 'output_energy', 'average_output_tokens']:\n",
    "    filtered_agg_df_final[col] = 0\n",
    "print(filtered_agg_df_final.head())"
   ]
  },
  {
   "cell_type": "code",
   "execution_count": 16,
   "id": "7c4b05b0",
   "metadata": {},
   "outputs": [
    {
     "name": "stdout",
     "output_type": "stream",
     "text": [
      "       level  structure_id llm_assignments       query_type      cost  \\\n",
      "13200      1             0            (0,)              Art  0.000004   \n",
      "13201      1             0            (0,)        Geography  0.000004   \n",
      "13202      1             0            (0,)          History  0.000004   \n",
      "13203      1             0            (0,)            Music  0.000004   \n",
      "13204      1             0            (0,)            Other  0.000004   \n",
      "...      ...           ...             ...              ...       ...   \n",
      "56393      1             0            (4,)     history_mmlu  0.000022   \n",
      "56396      1             0            (4,)       other_mmlu  0.000016   \n",
      "56397      1             0            (4,)  philosophy_mmlu  0.000015   \n",
      "56398      1             0            (4,)     physics_mmlu  0.000019   \n",
      "56399      1             0            (4,)  psychology_mmlu  0.000016   \n",
      "\n",
      "          energy    latency       qoa  input_cost  input_latency  \\\n",
      "13200  14.385158  22.141647  0.380927           0              0   \n",
      "13201  13.477424  20.744462  0.624516           0              0   \n",
      "13202  13.667979  21.037765  0.571849           0              0   \n",
      "13203  12.971587  19.965878  0.423594           0              0   \n",
      "13204  13.273010  20.429829  0.356728           0              0   \n",
      "...          ...        ...       ...         ...            ...   \n",
      "56393  19.573382  14.056059  0.814172           0              0   \n",
      "56396  14.116864  10.137618  0.926743           0              0   \n",
      "56397  12.748562   9.155012  0.609165           0              0   \n",
      "56398  16.582309  11.908106  0.639048           0              0   \n",
      "56399  13.766445   9.885975  0.942041           0              0   \n",
      "\n",
      "       input_energy  output_cost  output_latency  output_energy  \\\n",
      "13200             0            0               0              0   \n",
      "13201             0            0               0              0   \n",
      "13202             0            0               0              0   \n",
      "13203             0            0               0              0   \n",
      "13204             0            0               0              0   \n",
      "...             ...          ...             ...            ...   \n",
      "56393             0            0               0              0   \n",
      "56396             0            0               0              0   \n",
      "56397             0            0               0              0   \n",
      "56398             0            0               0              0   \n",
      "56399             0            0               0              0   \n",
      "\n",
      "       average_output_tokens  \n",
      "13200                      0  \n",
      "13201                      0  \n",
      "13202                      0  \n",
      "13203                      0  \n",
      "13204                      0  \n",
      "...                      ...  \n",
      "56393                      0  \n",
      "56396                      0  \n",
      "56397                      0  \n",
      "56398                      0  \n",
      "56399                      0  \n",
      "\n",
      "[100 rows x 15 columns]\n"
     ]
    }
   ],
   "source": [
    "# Print rows where level is 1 and structure_id is 0\n",
    "print(filtered_agg_df_final[(filtered_agg_df_final['level'] == 1) & (filtered_agg_df_final['structure_id'] == 0)])"
   ]
  },
  {
   "cell_type": "code",
   "execution_count": 17,
   "id": "4ea4ea0c",
   "metadata": {},
   "outputs": [],
   "source": [
    "fadf = filtered_agg_df_final.copy()"
   ]
  },
  {
   "cell_type": "code",
   "execution_count": 18,
   "id": "fec5a818",
   "metadata": {},
   "outputs": [],
   "source": [
    "filtered_agg_df_final = fadf.copy()"
   ]
  },
  {
   "cell_type": "code",
   "execution_count": 19,
   "id": "a79c1bcd",
   "metadata": {
    "vscode": {
     "languageId": "shellscript"
    }
   },
   "outputs": [
    {
     "name": "stdout",
     "output_type": "stream",
     "text": [
      "Updating filtered_agg_df_final with cost, latency, energy, and average output tokens...\n",
      "Doing cost updates...\n",
      "Doing latency updates...\n",
      "Doing energy updates...\n",
      "Doing average output tokens updates for 0...\n",
      "Doing average output tokens updates for 1...\n",
      "Doing average output tokens updates for 2...\n",
      "Doing average output tokens updates for 3...\n",
      "Doing average output tokens updates for 4...\n"
     ]
    }
   ],
   "source": [
    "# ...existing code...\n",
    "\n",
    "filtered_agg_df_final['average_output_tokens'] = filtered_agg_df_final['average_output_tokens'].astype(float)\n",
    "filtered_agg_df_final['input_cost'] = filtered_agg_df_final['input_cost'].astype(float)\n",
    "filtered_agg_df_final['output_cost'] = filtered_agg_df_final['output_cost'].astype(float)\n",
    "filtered_agg_df_final['input_latency'] = filtered_agg_df_final['input_latency'].astype(float)\n",
    "filtered_agg_df_final['output_latency'] = filtered_agg_df_final['output_latency'].astype(float)\n",
    "filtered_agg_df_final['input_energy'] = filtered_agg_df_final['input_energy'].astype(float)\n",
    "filtered_agg_df_final['output_energy'] = filtered_agg_df_final['output_energy'].astype(float)\n",
    "\n",
    "cost_map = {\n",
    "    '(0,)': (2.8e-8, 5.4e-8),\n",
    "    '(1,)': (5.5e-8, 5.5e-8),\n",
    "    '(2,)': (6.0e-8, 1.4e-7),\n",
    "    '(3,)': (6e-8, 2.4e-7),\n",
    "    '(4,)': (9e-8, 1.6e-7),\n",
    "}\n",
    "\n",
    "latency_map = {\n",
    "    '(0,)': (0.159983, 0.159983),\n",
    "    '(1,)': (0.15, 0.15),\n",
    "    '(2,)': (0.133, 0.133),\n",
    "    '(3,)': (0.09582, 0.09582),\n",
    "    '(4,)': (0.060, 0.060),\n",
    "}\n",
    "\n",
    "energy_map = {\n",
    "    '(0,)': (0.103939, 0.103939),\n",
    "    '(1,)': (0.10552, 0.10552),\n",
    "    '(2,)': (0.1, 0.1),\n",
    "    '(3,)': (0.067, 0.067),\n",
    "    '(4,)': (0.083, 0.083),\n",
    "}\n",
    "\n",
    "# Example mapping for average_output_tokens per query_type\n",
    "avg_tokens_map = {\n",
    "    'Art': 6.517787,\n",
    "    'Geography': 8.064074,\n",
    "    'History': 6.678085,\n",
    "    'Music': 6.352426,\n",
    "    'Other': 7.421234,\n",
    "    'Politics': 8.089234,\n",
    "    'Science and technology': 6.939447,\n",
    "    'Sports': 8.896979,\n",
    "    'TV shows': 7.285392,\n",
    "    'Video games': 8.155149,\n",
    "    'biology_mmlu': 33.338553,\n",
    "    'business_mmlu': 45.934000,\n",
    "    'chemistry_mmlu': 63.100486,\n",
    "    'computer science_mmlu': 41.072366,\n",
    "    'economics_mmlu': 30.988043,\n",
    "    'engineering_mmlu': 39.813846,\n",
    "    'health_mmlu': 19.795234,\n",
    "    'history_mmlu': 19.446383,\n",
    "    'law_mmlu': 27.655660,\n",
    "    'math_mmlu': 52.694483,\n",
    "    'other_mmlu': 43.808043,\n",
    "    'philosophy_mmlu': 16.052809,\n",
    "    'physics_mmlu': 47.345897,\n",
    "    'psychology_mmlu': 20.920000\n",
    "}\n",
    "\n",
    "print(\"Updating filtered_agg_df_final with cost, latency, energy, and average output tokens...\")\n",
    "print(\"Doing cost updates...\")\n",
    "for struct_id, (in_cost, out_cost) in cost_map.items():\n",
    "    mask = (\n",
    "        (filtered_agg_df_final['structure_id'] == 0) &\n",
    "        (filtered_agg_df_final['llm_assignments'] == struct_id)\n",
    "    )\n",
    "    filtered_agg_df_final.loc[mask, 'input_cost'] = in_cost\n",
    "    filtered_agg_df_final.loc[mask, 'output_cost'] = out_cost\n",
    "\n",
    "print(\"Doing latency updates...\")\n",
    "for struct_id, (in_cost, out_cost) in latency_map.items():\n",
    "    mask = (\n",
    "        (filtered_agg_df_final['structure_id'] == 0) &\n",
    "        (filtered_agg_df_final['llm_assignments'] == struct_id)\n",
    "    )\n",
    "    filtered_agg_df_final.loc[mask, 'input_latency'] = in_cost\n",
    "    filtered_agg_df_final.loc[mask, 'output_latency'] = out_cost\n",
    "\n",
    "\n",
    "print(\"Doing energy updates...\")\n",
    "for struct_id, (in_cost, out_cost) in energy_map.items():\n",
    "    mask = (\n",
    "        (filtered_agg_df_final['structure_id'] == 0) &\n",
    "        (filtered_agg_df_final['llm_assignments'] == struct_id)\n",
    "    )\n",
    "    filtered_agg_df_final.loc[mask, 'input_energy'] = in_cost\n",
    "    filtered_agg_df_final.loc[mask, 'output_energy'] = out_cost\n",
    "\n",
    "\n",
    "print(\"Doing average output tokens updates for 0...\")\n",
    "for qtype, avg_tokens in avg_tokens_map.items():\n",
    "    mask = (\n",
    "        (filtered_agg_df_final['structure_id'] == 0) &\n",
    "        (filtered_agg_df_final['llm_assignments'] == '(0,)')\n",
    "    )\n",
    "    qtype_mask = mask & (filtered_agg_df_final['query_type'] == qtype)\n",
    "    filtered_agg_df_final['average_output_tokens'] = filtered_agg_df_final['average_output_tokens'].astype(float)\n",
    "    filtered_agg_df_final.loc[qtype_mask, 'average_output_tokens'] = avg_tokens\n",
    "\n",
    "\n",
    "print(\"Doing average output tokens updates for 1...\")\n",
    "for qtype, avg_tokens in avg_tokens_map.items():\n",
    "    mask = (\n",
    "        (filtered_agg_df_final['structure_id'] == 0) &\n",
    "        (filtered_agg_df_final['llm_assignments'] == '(1,)')\n",
    "    )\n",
    "    qtype_mask = mask & (filtered_agg_df_final['query_type'] == qtype)\n",
    "    filtered_agg_df_final['average_output_tokens'] = filtered_agg_df_final['average_output_tokens'].astype(float)\n",
    "    filtered_agg_df_final.loc[qtype_mask, 'average_output_tokens'] = avg_tokens\n",
    "\n",
    "print(\"Doing average output tokens updates for 2...\")\n",
    "for qtype, avg_tokens in avg_tokens_map.items():\n",
    "    mask = (\n",
    "        (filtered_agg_df_final['structure_id'] == 0) &\n",
    "        (filtered_agg_df_final['llm_assignments'] == '(2,)')\n",
    "    )\n",
    "    qtype_mask = mask & (filtered_agg_df_final['query_type'] == qtype)\n",
    "    filtered_agg_df_final['average_output_tokens'] = filtered_agg_df_final['average_output_tokens'].astype(float)\n",
    "    filtered_agg_df_final.loc[qtype_mask, 'average_output_tokens'] = avg_tokens\n",
    "\n",
    "print(\"Doing average output tokens updates for 3...\")\n",
    "for qtype, avg_tokens in avg_tokens_map.items():\n",
    "    mask = (\n",
    "        (filtered_agg_df_final['structure_id'] == 0) &\n",
    "        (filtered_agg_df_final['llm_assignments'] == '(3,)')\n",
    "    )\n",
    "    qtype_mask = mask & (filtered_agg_df_final['query_type'] == qtype)\n",
    "    filtered_agg_df_final['average_output_tokens'] = filtered_agg_df_final['average_output_tokens'].astype(float)\n",
    "    filtered_agg_df_final.loc[qtype_mask, 'average_output_tokens'] = avg_tokens\n",
    "\n",
    "print(\"Doing average output tokens updates for 4...\")\n",
    "for qtype, avg_tokens in avg_tokens_map.items():\n",
    "    mask = (\n",
    "        (filtered_agg_df_final['structure_id'] == 0) &\n",
    "        (filtered_agg_df_final['llm_assignments'] == '(4,)')\n",
    "    )\n",
    "    qtype_mask = mask & (filtered_agg_df_final['query_type'] == qtype)\n",
    "    filtered_agg_df_final['average_output_tokens'] = filtered_agg_df_final['average_output_tokens'].astype(float)\n",
    "    filtered_agg_df_final.loc[qtype_mask, 'average_output_tokens'] = avg_tokens\n",
    "\n",
    "\n",
    "# ...existing code..."
   ]
  },
  {
   "cell_type": "code",
   "execution_count": 22,
   "id": "ff84c058",
   "metadata": {
    "vscode": {
     "languageId": "shellscript"
    }
   },
   "outputs": [
    {
     "name": "stdout",
     "output_type": "stream",
     "text": [
      "120\n"
     ]
    }
   ],
   "source": [
    "print(len(filtered_agg_df_final[(filtered_agg_df_final['level'] == 1) & (filtered_agg_df_final['structure_id'] == 0)]))"
   ]
  },
  {
   "cell_type": "code",
   "execution_count": null,
   "id": "af95d811",
   "metadata": {
    "vscode": {
     "languageId": "shellscript"
    }
   },
   "outputs": [],
   "source": []
  },
  {
   "cell_type": "code",
   "execution_count": 21,
   "id": "1abae211",
   "metadata": {
    "vscode": {
     "languageId": "shellscript"
    }
   },
   "outputs": [
    {
     "name": "stdout",
     "output_type": "stream",
     "text": [
      "Appended 20 rows with llm_assignments changed to (5,)\n"
     ]
    }
   ],
   "source": [
    "# ...existing code...\n",
    "duplicate_rows = filtered_agg_df_final[(filtered_agg_df_final['structure_id'] == 0) & (filtered_agg_df_final['llm_assignments'] == '(4,)')].copy()\n",
    "duplicate_rows['llm_assignments'] = '(5,)'\n",
    "filtered_agg_df_final = pd.concat([filtered_agg_df_final, duplicate_rows], ignore_index=True)\n",
    "print(f\"Appended {len(duplicate_rows)} rows with llm_assignments changed to (5,)\")\n",
    "# ...existing code..."
   ]
  },
  {
   "cell_type": "code",
   "execution_count": null,
   "id": "3b3893f0",
   "metadata": {
    "vscode": {
     "languageId": "markdown"
    }
   },
   "outputs": [],
   "source": []
  },
  {
   "cell_type": "code",
   "execution_count": 29,
   "id": "873a13f0",
   "metadata": {},
   "outputs": [
    {
     "name": "stdout",
     "output_type": "stream",
     "text": [
      "Level 1 df shape: (2520, 15)\n",
      "Level 2 df shape: (19520, 15)\n",
      "Level 3 df shape: (34520, 15)\n",
      "Level 4 df shape: (47020, 15)\n"
     ]
    }
   ],
   "source": [
    "level_structure_ids = {\n",
    "    1: [0, 6, 52, 840],\n",
    "    2: [1, 50, 802, 836],\n",
    "    3: [5, 801],\n",
    "    4: [41]\n",
    "}\n",
    "level_dfs = {}\n",
    "all_ids = []\n",
    "for level in range(1, 5):\n",
    "    all_ids += level_structure_ids[level]\n",
    "    level_dfs[level] = filtered_agg_df_final[filtered_agg_df_final['structure_id'].isin(all_ids)].copy()\n",
    "    print(f\"Level {level} df shape: {level_dfs[level].shape}\")\n"
   ]
  },
  {
   "cell_type": "code",
   "execution_count": 31,
   "id": "e466a747",
   "metadata": {},
   "outputs": [
    {
     "name": "stdout",
     "output_type": "stream",
     "text": [
      "Saved level_1_data.csv (2520 rows, 15 cols)\n",
      "Saved level_2_data.csv (19520 rows, 15 cols)\n",
      "Saved level_3_data.csv (34520 rows, 15 cols)\n",
      "Saved level_4_data.csv (47020 rows, 15 cols)\n"
     ]
    }
   ],
   "source": [
    "for level, df in level_dfs.items():\n",
    "    fn = f'level_{level}_data.csv'\n",
    "    df.to_csv(fn, index=False)\n",
    "    print(f\"Saved {fn} ({df.shape[0]} rows, {df.shape[1]} cols)\")"
   ]
  },
  {
   "cell_type": "code",
   "execution_count": 25,
   "id": "06e810a8",
   "metadata": {},
   "outputs": [
    {
     "name": "stdout",
     "output_type": "stream",
     "text": [
      "       level  structure_id llm_assignments query_type      cost     energy  \\\n",
      "11000      1             0            (0,)        Art  0.000004  14.385158   \n",
      "11001      1             0            (0,)  Geography  0.000004  13.477424   \n",
      "11002      1             0            (0,)    History  0.000004  13.667979   \n",
      "11003      1             0            (0,)      Music  0.000004  12.971587   \n",
      "11004      1             0            (0,)      Other  0.000004  13.273010   \n",
      "\n",
      "         latency    qoa    input_cost  input_latency  input_energy  \\\n",
      "11000  22.141647  0.059  2.800000e-08       0.159983      0.103939   \n",
      "11001  20.744462  0.059  2.800000e-08       0.159983      0.103939   \n",
      "11002  21.037765  0.059  2.800000e-08       0.159983      0.103939   \n",
      "11003  19.965878  0.059  2.800000e-08       0.159983      0.103939   \n",
      "11004  20.429829  0.059  2.800000e-08       0.159983      0.103939   \n",
      "\n",
      "        output_cost  output_latency  output_energy  average_output_tokens  \n",
      "11000  5.400000e-08        0.159983       0.103939                  420.0  \n",
      "11001  5.400000e-08        0.159983       0.103939                  420.0  \n",
      "11002  5.400000e-08        0.159983       0.103939                  420.0  \n",
      "11003  5.400000e-08        0.159983       0.103939                  420.0  \n",
      "11004  5.400000e-08        0.159983       0.103939                  420.0  \n"
     ]
    }
   ],
   "source": [
    "# ...existing code...\n",
    "level0_df = filtered_agg_df_final[filtered_agg_df_final['structure_id'] == 0].copy()\n",
    "\n",
    "avg_tokens_map_0 = {\n",
    "    '(0,)': 420,\n",
    "    '(1,)': 474,\n",
    "    '(2,)': 600,\n",
    "    '(3,)': 454,\n",
    "    '(4,)': 484,\n",
    "    '(5,)': 484\n",
    "}\n",
    "qoa_map_0 = {\n",
    "    '(0,)': [0.309, 0.059],\n",
    "    '(1,)': [0.354, 0.354],\n",
    "    '(2,)': [0.74, 0.03],\n",
    "    '(3,)': [0.637, 0.080],\n",
    "    '(4,)': [0.675, 0.100],\n",
    "    '(5,)': [0.675, 0.100]\n",
    "}\n",
    "for llm_assign, avg_tokens in avg_tokens_map_0.items():\n",
    "    mask = level0_df['llm_assignments'] == llm_assign\n",
    "    level0_df.loc[mask, 'average_output_tokens'] = avg_tokens\n",
    "\n",
    "    qoa_vals = qoa_map_0[llm_assign]\n",
    "    ends_mmlu = level0_df['query_type'].astype(str).str.endswith('mmlu')\n",
    "\n",
    "    # use first qoa value for query_types ending with 'mmlu', second value otherwise\n",
    "    level0_df.loc[mask & ends_mmlu, 'qoa'] = qoa_vals[0]\n",
    "    level0_df.loc[mask & ~ends_mmlu, 'qoa'] = qoa_vals[1]\n",
    "print(level0_df.head())\n",
    "# ...existing code..."
   ]
  },
  {
   "cell_type": "code",
   "execution_count": 26,
   "id": "94607e56",
   "metadata": {},
   "outputs": [
    {
     "name": "stdout",
     "output_type": "stream",
     "text": [
      "Final level 0 df shape: (120, 15)\n"
     ]
    }
   ],
   "source": [
    "print(\"Final level 0 df shape:\", level0_df.shape)"
   ]
  },
  {
   "cell_type": "code",
   "execution_count": 32,
   "id": "6ff7cea7",
   "metadata": {},
   "outputs": [],
   "source": [
    "level0_df.to_csv('level_0_data.csv', index=False)"
   ]
  },
  {
   "cell_type": "code",
   "execution_count": 24,
   "id": "d6055b8b",
   "metadata": {},
   "outputs": [
    {
     "name": "stdout",
     "output_type": "stream",
     "text": [
      "       level  structure_id llm_assignments       query_type      cost  \\\n",
      "11000      1             0            (0,)              Art  0.000004   \n",
      "11001      1             0            (0,)        Geography  0.000004   \n",
      "11002      1             0            (0,)          History  0.000004   \n",
      "11003      1             0            (0,)            Music  0.000004   \n",
      "11004      1             0            (0,)            Other  0.000004   \n",
      "...      ...           ...             ...              ...       ...   \n",
      "47015      1             0            (5,)     history_mmlu  0.000022   \n",
      "47016      1             0            (5,)       other_mmlu  0.000016   \n",
      "47017      1             0            (5,)  philosophy_mmlu  0.000015   \n",
      "47018      1             0            (5,)     physics_mmlu  0.000019   \n",
      "47019      1             0            (5,)  psychology_mmlu  0.000016   \n",
      "\n",
      "          energy    latency       qoa    input_cost  input_latency  \\\n",
      "11000  14.385158  22.141647  0.380927  2.800000e-08       0.159983   \n",
      "11001  13.477424  20.744462  0.624516  2.800000e-08       0.159983   \n",
      "11002  13.667979  21.037765  0.571849  2.800000e-08       0.159983   \n",
      "11003  12.971587  19.965878  0.423594  2.800000e-08       0.159983   \n",
      "11004  13.273010  20.429829  0.356728  2.800000e-08       0.159983   \n",
      "...          ...        ...       ...           ...            ...   \n",
      "47015  19.573382  14.056059  0.814172  9.000000e-08       0.060000   \n",
      "47016  14.116864  10.137618  0.926743  9.000000e-08       0.060000   \n",
      "47017  12.748562   9.155012  0.609165  9.000000e-08       0.060000   \n",
      "47018  16.582309  11.908106  0.639048  9.000000e-08       0.060000   \n",
      "47019  13.766445   9.885975  0.942041  9.000000e-08       0.060000   \n",
      "\n",
      "       input_energy   output_cost  output_latency  output_energy  \\\n",
      "11000      0.103939  5.400000e-08        0.159983       0.103939   \n",
      "11001      0.103939  5.400000e-08        0.159983       0.103939   \n",
      "11002      0.103939  5.400000e-08        0.159983       0.103939   \n",
      "11003      0.103939  5.400000e-08        0.159983       0.103939   \n",
      "11004      0.103939  5.400000e-08        0.159983       0.103939   \n",
      "...             ...           ...             ...            ...   \n",
      "47015      0.083000  1.600000e-07        0.060000       0.083000   \n",
      "47016      0.083000  1.600000e-07        0.060000       0.083000   \n",
      "47017      0.083000  1.600000e-07        0.060000       0.083000   \n",
      "47018      0.083000  1.600000e-07        0.060000       0.083000   \n",
      "47019      0.083000  1.600000e-07        0.060000       0.083000   \n",
      "\n",
      "       average_output_tokens  \n",
      "11000               6.517787  \n",
      "11001               8.064074  \n",
      "11002               6.678085  \n",
      "11003               6.352426  \n",
      "11004               7.421234  \n",
      "...                      ...  \n",
      "47015              19.446383  \n",
      "47016              43.808043  \n",
      "47017              16.052809  \n",
      "47018              47.345897  \n",
      "47019              20.920000  \n",
      "\n",
      "[120 rows x 15 columns]\n"
     ]
    }
   ],
   "source": [
    "# Print rows where level is 1 and structure_id is 0\n",
    "print(filtered_agg_df_final[(filtered_agg_df_final['level'] == 1) & (filtered_agg_df_final['structure_id'] == 0)])"
   ]
  }
 ],
 "metadata": {
  "kernelspec": {
   "display_name": "Python 3",
   "language": "python",
   "name": "python3"
  },
  "language_info": {
   "codemirror_mode": {
    "name": "ipython",
    "version": 3
   },
   "file_extension": ".py",
   "mimetype": "text/x-python",
   "name": "python",
   "nbconvert_exporter": "python",
   "pygments_lexer": "ipython3",
   "version": "3.12.10"
  }
 },
 "nbformat": 4,
 "nbformat_minor": 5
}
